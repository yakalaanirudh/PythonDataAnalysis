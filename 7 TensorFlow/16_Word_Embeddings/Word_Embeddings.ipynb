{
 "cells": [
  {
   "cell_type": "code",
   "execution_count": 1,
   "id": "65f8fcc3-418d-497d-b1de-6ac560e616bd",
   "metadata": {},
   "outputs": [],
   "source": [
    "import numpy as np\n",
    "from tensorflow.keras.preprocessing.text import one_hot\n",
    "from tensorflow.keras.preprocessing.sequence import pad_sequences\n",
    "from tensorflow.keras.models import Sequential\n",
    "from tensorflow.keras.layers import Dense\n",
    "from tensorflow.keras.layers import Flatten\n",
    "from tensorflow.keras.layers import Embedding\n",
    "\n",
    "reviews = ['nice food',\n",
    "        'amazing restaurant',\n",
    "        'too good',\n",
    "        'just loved it!',\n",
    "        'will go again',\n",
    "        'horrible food',\n",
    "        'never go there',\n",
    "        'poor service',\n",
    "        'poor quality',\n",
    "        'needs improvement']\n",
    "\n",
    "#The first 5 are positive reviews an the bottom five are negative reviews\n",
    "sentiment = np.array([1,1,1,1,1,0,0,0,0,0])"
   ]
  },
  {
   "cell_type": "code",
   "execution_count": 2,
   "id": "1a80b785-723b-45d9-b28e-b48086b13db4",
   "metadata": {},
   "outputs": [
    {
     "data": {
      "text/plain": [
       "[24, 25]"
      ]
     },
     "execution_count": 2,
     "metadata": {},
     "output_type": "execute_result"
    }
   ],
   "source": [
    "#This generates a number from 0 to 30 for every word in the string given\n",
    "one_hot(\"amazing restaurant\",30)"
   ]
  },
  {
   "cell_type": "code",
   "execution_count": 3,
   "id": "18c0f39b-2f78-4ee8-8654-e52f506573cc",
   "metadata": {},
   "outputs": [
    {
     "name": "stdout",
     "output_type": "stream",
     "text": [
      "[[22, 6], [24, 25], [12, 7], [4, 27, 9], [13, 1, 2], [24, 6], [1, 1, 23], [28, 7], [28, 17], [1, 5]]\n"
     ]
    }
   ],
   "source": [
    "vocab_size = 30  #we set the numebr of words in our data is 30\n",
    "\n",
    "#convert string to number for every word in the string the range of number is 0 to 30 as set in vocab_size\n",
    "encoded_reviews = [one_hot(d, vocab_size) for d in reviews]\n",
    "\n",
    "print(encoded_reviews)"
   ]
  },
  {
   "cell_type": "code",
   "execution_count": 4,
   "id": "062393c2-2dea-431e-bfe1-f78820f882e9",
   "metadata": {},
   "outputs": [
    {
     "name": "stdout",
     "output_type": "stream",
     "text": [
      "[[22  6  0  0]\n",
      " [24 25  0  0]\n",
      " [12  7  0  0]\n",
      " [ 4 27  9  0]\n",
      " [13  1  2  0]\n",
      " [24  6  0  0]\n",
      " [ 1  1 23  0]\n",
      " [28  7  0  0]\n",
      " [28 17  0  0]\n",
      " [ 1  5  0  0]]\n"
     ]
    }
   ],
   "source": [
    "\"\"\"\n",
    "Weve seen that for 2 words we get two numbers so to make all lists length same we add padding and set max length to 4\n",
    "\n",
    "We add 0 at end[post] to make max length 4\n",
    "\"\"\"\n",
    "max_length = 4\n",
    "padded_reviews = pad_sequences(encoded_reviews, maxlen=max_length, padding='post')\n",
    "print(padded_reviews)"
   ]
  },
  {
   "cell_type": "code",
   "execution_count": 5,
   "id": "ab08de4e-f83e-49a1-bfd2-3912f629ade7",
   "metadata": {},
   "outputs": [
    {
     "name": "stderr",
     "output_type": "stream",
     "text": [
      "D:\\Programs\\Lib\\site-packages\\keras\\src\\layers\\core\\embedding.py:90: UserWarning: Argument `input_length` is deprecated. Just remove it.\n",
      "  warnings.warn(\n"
     ]
    }
   ],
   "source": [
    "# each word is represented by vector sized 5\n",
    "embeded_vector_size = 5 \n",
    "\n",
    "model = Sequential() #Neurons are connected layer by layer\n",
    "\n",
    "#we pass vacab size, each word vector size input sentence length\n",
    "model.add(Embedding(vocab_size, embeded_vector_size, input_length=max_length,name=\"embedding\"))\n",
    "\n",
    "#The resultant embedding matrix is 2/2 we flatten it\n",
    "# for example very good food gives us 3 vectors of size three we flatten them to a col matrix of 12 size\n",
    "model.add(Flatten())\n",
    "\n",
    "\"\"\"\n",
    "1 unit: \n",
    "This means the output of the model will be a single nureon. \n",
    "\n",
    "The sigmoid activation function squashes the output to a value between 0 and 1, making it ideal for binary classification. \n",
    "This means the model will output a probability between 0 and 1, which can be interpreted as the likelihood of the positive class\n",
    "\"\"\"\n",
    "model.add(Dense(1, activation='sigmoid'))"
   ]
  },
  {
   "cell_type": "code",
   "execution_count": 6,
   "id": "194c9fef-4308-476e-a203-e40f4958a058",
   "metadata": {},
   "outputs": [],
   "source": [
    "X = padded_reviews\n",
    "y = sentiment"
   ]
  },
  {
   "cell_type": "code",
   "execution_count": 7,
   "id": "8a6cf34e-3d96-4a4e-8512-035fa328debe",
   "metadata": {},
   "outputs": [
    {
     "data": {
      "text/html": [
       "<pre style=\"white-space:pre;overflow-x:auto;line-height:normal;font-family:Menlo,'DejaVu Sans Mono',consolas,'Courier New',monospace\"><span style=\"font-weight: bold\">Model: \"sequential\"</span>\n",
       "</pre>\n"
      ],
      "text/plain": [
       "\u001b[1mModel: \"sequential\"\u001b[0m\n"
      ]
     },
     "metadata": {},
     "output_type": "display_data"
    },
    {
     "data": {
      "text/html": [
       "<pre style=\"white-space:pre;overflow-x:auto;line-height:normal;font-family:Menlo,'DejaVu Sans Mono',consolas,'Courier New',monospace\">┏━━━━━━━━━━━━━━━━━━━━━━━━━━━━━━━━━━━━━━┳━━━━━━━━━━━━━━━━━━━━━━━━━━━━━┳━━━━━━━━━━━━━━━━━┓\n",
       "┃<span style=\"font-weight: bold\"> Layer (type)                         </span>┃<span style=\"font-weight: bold\"> Output Shape                </span>┃<span style=\"font-weight: bold\">         Param # </span>┃\n",
       "┡━━━━━━━━━━━━━━━━━━━━━━━━━━━━━━━━━━━━━━╇━━━━━━━━━━━━━━━━━━━━━━━━━━━━━╇━━━━━━━━━━━━━━━━━┩\n",
       "│ embedding (<span style=\"color: #0087ff; text-decoration-color: #0087ff\">Embedding</span>)                │ ?                           │     <span style=\"color: #00af00; text-decoration-color: #00af00\">0</span> (unbuilt) │\n",
       "├──────────────────────────────────────┼─────────────────────────────┼─────────────────┤\n",
       "│ flatten (<span style=\"color: #0087ff; text-decoration-color: #0087ff\">Flatten</span>)                    │ ?                           │     <span style=\"color: #00af00; text-decoration-color: #00af00\">0</span> (unbuilt) │\n",
       "├──────────────────────────────────────┼─────────────────────────────┼─────────────────┤\n",
       "│ dense (<span style=\"color: #0087ff; text-decoration-color: #0087ff\">Dense</span>)                        │ ?                           │     <span style=\"color: #00af00; text-decoration-color: #00af00\">0</span> (unbuilt) │\n",
       "└──────────────────────────────────────┴─────────────────────────────┴─────────────────┘\n",
       "</pre>\n"
      ],
      "text/plain": [
       "┏━━━━━━━━━━━━━━━━━━━━━━━━━━━━━━━━━━━━━━┳━━━━━━━━━━━━━━━━━━━━━━━━━━━━━┳━━━━━━━━━━━━━━━━━┓\n",
       "┃\u001b[1m \u001b[0m\u001b[1mLayer (type)                        \u001b[0m\u001b[1m \u001b[0m┃\u001b[1m \u001b[0m\u001b[1mOutput Shape               \u001b[0m\u001b[1m \u001b[0m┃\u001b[1m \u001b[0m\u001b[1m        Param #\u001b[0m\u001b[1m \u001b[0m┃\n",
       "┡━━━━━━━━━━━━━━━━━━━━━━━━━━━━━━━━━━━━━━╇━━━━━━━━━━━━━━━━━━━━━━━━━━━━━╇━━━━━━━━━━━━━━━━━┩\n",
       "│ embedding (\u001b[38;5;33mEmbedding\u001b[0m)                │ ?                           │     \u001b[38;5;34m0\u001b[0m (unbuilt) │\n",
       "├──────────────────────────────────────┼─────────────────────────────┼─────────────────┤\n",
       "│ flatten (\u001b[38;5;33mFlatten\u001b[0m)                    │ ?                           │     \u001b[38;5;34m0\u001b[0m (unbuilt) │\n",
       "├──────────────────────────────────────┼─────────────────────────────┼─────────────────┤\n",
       "│ dense (\u001b[38;5;33mDense\u001b[0m)                        │ ?                           │     \u001b[38;5;34m0\u001b[0m (unbuilt) │\n",
       "└──────────────────────────────────────┴─────────────────────────────┴─────────────────┘\n"
      ]
     },
     "metadata": {},
     "output_type": "display_data"
    },
    {
     "data": {
      "text/html": [
       "<pre style=\"white-space:pre;overflow-x:auto;line-height:normal;font-family:Menlo,'DejaVu Sans Mono',consolas,'Courier New',monospace\"><span style=\"font-weight: bold\"> Total params: </span><span style=\"color: #00af00; text-decoration-color: #00af00\">0</span> (0.00 B)\n",
       "</pre>\n"
      ],
      "text/plain": [
       "\u001b[1m Total params: \u001b[0m\u001b[38;5;34m0\u001b[0m (0.00 B)\n"
      ]
     },
     "metadata": {},
     "output_type": "display_data"
    },
    {
     "data": {
      "text/html": [
       "<pre style=\"white-space:pre;overflow-x:auto;line-height:normal;font-family:Menlo,'DejaVu Sans Mono',consolas,'Courier New',monospace\"><span style=\"font-weight: bold\"> Trainable params: </span><span style=\"color: #00af00; text-decoration-color: #00af00\">0</span> (0.00 B)\n",
       "</pre>\n"
      ],
      "text/plain": [
       "\u001b[1m Trainable params: \u001b[0m\u001b[38;5;34m0\u001b[0m (0.00 B)\n"
      ]
     },
     "metadata": {},
     "output_type": "display_data"
    },
    {
     "data": {
      "text/html": [
       "<pre style=\"white-space:pre;overflow-x:auto;line-height:normal;font-family:Menlo,'DejaVu Sans Mono',consolas,'Courier New',monospace\"><span style=\"font-weight: bold\"> Non-trainable params: </span><span style=\"color: #00af00; text-decoration-color: #00af00\">0</span> (0.00 B)\n",
       "</pre>\n"
      ],
      "text/plain": [
       "\u001b[1m Non-trainable params: \u001b[0m\u001b[38;5;34m0\u001b[0m (0.00 B)\n"
      ]
     },
     "metadata": {},
     "output_type": "display_data"
    },
    {
     "name": "stdout",
     "output_type": "stream",
     "text": [
      "None\n"
     ]
    }
   ],
   "source": [
    "model.compile(optimizer='adam', loss='binary_crossentropy', metrics=['accuracy'])\n",
    "print(model.summary())"
   ]
  },
  {
   "cell_type": "code",
   "execution_count": 8,
   "id": "a7607b64-436d-4632-b768-3a4f8aba12da",
   "metadata": {},
   "outputs": [
    {
     "data": {
      "text/plain": [
       "<keras.src.callbacks.history.History at 0x190db15da30>"
      ]
     },
     "execution_count": 8,
     "metadata": {},
     "output_type": "execute_result"
    }
   ],
   "source": [
    "\"\"\"\n",
    "This means no output will be shown during training. \n",
    "The training process runs silently without printing any information (like loss, accuracy, or progress bars).\n",
    "\n",
    "verbose=0 if you don’t need any feedback or are running experiments in the background.\n",
    "verbose=1 when you want to track the progress interactively.\n",
    "verbose=2 if you prefer a less cluttered output but still want detailed logs for each epoch.\n",
    "\"\"\"\n",
    "model.fit(X, y, epochs=50, verbose=0)"
   ]
  },
  {
   "cell_type": "code",
   "execution_count": 9,
   "id": "5ec3689e-c4b7-454d-8574-03fe83019684",
   "metadata": {},
   "outputs": [
    {
     "name": "stdout",
     "output_type": "stream",
     "text": [
      "\u001b[1m1/1\u001b[0m \u001b[32m━━━━━━━━━━━━━━━━━━━━\u001b[0m\u001b[37m\u001b[0m \u001b[1m0s\u001b[0m 224ms/step - accuracy: 0.9000 - loss: 0.6541\n"
     ]
    },
    {
     "data": {
      "text/plain": [
       "0.8999999761581421"
      ]
     },
     "execution_count": 9,
     "metadata": {},
     "output_type": "execute_result"
    }
   ],
   "source": [
    "# evaluate the model\n",
    "loss, accuracy = model.evaluate(X, y)\n",
    "accuracy"
   ]
  },
  {
   "cell_type": "code",
   "execution_count": 17,
   "id": "54e537d1-0a4e-41dc-8ed0-d4ee54c2c1ef",
   "metadata": {},
   "outputs": [
    {
     "data": {
      "text/plain": [
       "array([[ 0.00088638, -0.0180603 , -0.00680055,  0.0076575 ,  0.03529859],\n",
       "       [-0.02245655,  0.03537659, -0.01065235, -0.01384369, -0.04821618],\n",
       "       [-0.01576259, -0.0108992 ,  0.09856898, -0.04145789, -0.02359428],\n",
       "       [ 0.01640204,  0.04416865, -0.02634202,  0.03902683, -0.01753344],\n",
       "       [-0.06775293,  0.07221265, -0.06934162,  0.02534495,  0.08928314],\n",
       "       [-0.02605165, -0.09836814,  0.0751266 , -0.05770465,  0.0636599 ],\n",
       "       [ 0.01577486,  0.00196374,  0.00647211,  0.03236306,  0.01852922],\n",
       "       [ 0.03755089,  0.0215859 ,  0.00899677, -0.04075366,  0.031982  ],\n",
       "       [-0.01983212, -0.04892723,  0.00321841, -0.04574267,  0.04189975],\n",
       "       [-0.08810661, -0.03967899,  0.06934293, -0.00621028, -0.03901733],\n",
       "       [ 0.03393484,  0.0435287 , -0.03607516, -0.02900426,  0.04231438],\n",
       "       [ 0.0095498 , -0.00742118, -0.01955201,  0.02658648, -0.04590303],\n",
       "       [-0.09193432,  0.09091119, -0.06162275,  0.01922112,  0.06462791],\n",
       "       [-0.10093212,  0.08830682, -0.03760545,  0.05981652,  0.08096015],\n",
       "       [ 0.03135974,  0.01441595, -0.04090881,  0.01630062,  0.0192076 ],\n",
       "       [-0.0245073 ,  0.02711937,  0.0342183 ,  0.00790286, -0.04236106],\n",
       "       [-0.01902439,  0.0304882 , -0.04434135,  0.02034123,  0.00185424],\n",
       "       [-0.08475956, -0.08669407,  0.03776482, -0.02286778,  0.0175549 ],\n",
       "       [-0.0377881 ,  0.03615817, -0.01174776, -0.02862217,  0.00183475],\n",
       "       [-0.04524033, -0.01113815, -0.01089145, -0.04410681, -0.03958946],\n",
       "       [-0.0382364 , -0.02462884,  0.02820232, -0.00868684,  0.03998438],\n",
       "       [ 0.00260515, -0.03133895, -0.01081934,  0.0314091 , -0.00623303],\n",
       "       [-0.09767662,  0.05209922, -0.04286069,  0.03353297,  0.07384855],\n",
       "       [ 0.08243012,  0.0599177 , -0.02515979,  0.06479727,  0.02683382],\n",
       "       [ 0.03103005, -0.04675707, -0.03116208,  0.01508445,  0.03621326],\n",
       "       [ 0.00187483,  0.10048775, -0.02079614,  0.01499708, -0.05375898],\n",
       "       [ 0.04417462,  0.0196684 , -0.02736619,  0.03041511, -0.01500192],\n",
       "       [ 0.01823485,  0.04963129, -0.09971195, -0.00081719, -0.027318  ],\n",
       "       [ 0.11580322, -0.11448944,  0.09558672, -0.05123206, -0.05648916],\n",
       "       [-0.02480767,  0.03575181,  0.01717738, -0.0323705 ,  0.02902007]],\n",
       "      dtype=float32)"
      ]
     },
     "execution_count": 17,
     "metadata": {},
     "output_type": "execute_result"
    }
   ],
   "source": [
    "weights = model.get_layer('embedding').get_weights()[0]\n",
    "\n",
    "weights\n",
    "# len(weights) gives output 30"
   ]
  },
  {
   "cell_type": "code",
   "execution_count": 14,
   "id": "53f057e6-5b9b-425e-99f8-3b395eea59ba",
   "metadata": {},
   "outputs": [
    {
     "data": {
      "text/plain": [
       "array([-0.10093212,  0.08830682, -0.03760545,  0.05981652,  0.08096015],\n",
       "      dtype=float32)"
      ]
     },
     "execution_count": 14,
     "metadata": {},
     "output_type": "execute_result"
    }
   ],
   "source": [
    "\"\"\"\n",
    "13 means the weight of the word denoted by 13 in th embeddings here it is in 5th sentence first word [will]\n",
    "\"\"\"\n",
    "weights[13]"
   ]
  },
  {
   "cell_type": "code",
   "execution_count": 15,
   "id": "76f2af52-422f-44cd-8cfe-0dd0edb1ce1a",
   "metadata": {},
   "outputs": [
    {
     "data": {
      "text/plain": [
       "array([-0.06775293,  0.07221265, -0.06934162,  0.02534495,  0.08928314],\n",
       "      dtype=float32)"
      ]
     },
     "execution_count": 15,
     "metadata": {},
     "output_type": "execute_result"
    }
   ],
   "source": [
    "\"\"\"\n",
    "4 means the weight of the word denoted by 4 in th embeddings here it is in 4th sentence first word [just]\n",
    "\"\"\"\n",
    "weights[4]"
   ]
  },
  {
   "cell_type": "code",
   "execution_count": 18,
   "id": "5ebe4f28-b2c4-43a6-98f1-5853ca266dbf",
   "metadata": {},
   "outputs": [
    {
     "data": {
      "text/plain": [
       "array([-0.02245655,  0.03537659, -0.01065235, -0.01384369, -0.04821618],\n",
       "      dtype=float32)"
      ]
     },
     "execution_count": 18,
     "metadata": {},
     "output_type": "execute_result"
    }
   ],
   "source": [
    "\"\"\"\n",
    "1 means the weight of the word denoted by 1 in th embeddings here it is in 10th sentence first word [needs]\n",
    "\"\"\"\n",
    "weights[1]"
   ]
  },
  {
   "cell_type": "code",
   "execution_count": null,
   "id": "68b1abe1-dd82-41bb-998a-3a9bae6098e0",
   "metadata": {},
   "outputs": [],
   "source": []
  }
 ],
 "metadata": {
  "kernelspec": {
   "display_name": "Python 3 (ipykernel)",
   "language": "python",
   "name": "python3"
  },
  "language_info": {
   "codemirror_mode": {
    "name": "ipython",
    "version": 3
   },
   "file_extension": ".py",
   "mimetype": "text/x-python",
   "name": "python",
   "nbconvert_exporter": "python",
   "pygments_lexer": "ipython3",
   "version": "3.12.7"
  }
 },
 "nbformat": 4,
 "nbformat_minor": 5
}
