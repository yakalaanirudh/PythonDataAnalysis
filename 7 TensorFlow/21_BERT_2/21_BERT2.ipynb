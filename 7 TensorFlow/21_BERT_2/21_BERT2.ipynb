{
 "cells": [
  {
   "cell_type": "code",
   "execution_count": null,
   "id": "aef940fa-3df8-44d7-b865-1f17a075bc7d",
   "metadata": {},
   "outputs": [],
   "source": [
    "import tensorflow as tf\n",
    "import tensorflow_hub as hub\n",
    "import tensorflow_text as text"
   ]
  },
  {
   "cell_type": "code",
   "execution_count": null,
   "id": "d2c9abb4-8d88-4c1b-8a8f-cd9a2daa9e45",
   "metadata": {},
   "outputs": [],
   "source": [
    "#Import the dataset (Dataset is taken from kaggle)\n",
    "import pandas as pd\n",
    "\n",
    "df = pd.read_csv(\"spam.csv\")\n",
    "df.head(5)"
   ]
  },
  {
   "cell_type": "code",
   "execution_count": null,
   "id": "7fcbd03a-e9e2-4281-95a3-abd2ff15b73c",
   "metadata": {},
   "outputs": [],
   "source": [
    "df.groupby('Category').describe()"
   ]
  },
  {
   "cell_type": "code",
   "execution_count": null,
   "id": "a4c243d7-26fc-43c3-8b9b-8b69539f0aca",
   "metadata": {},
   "outputs": [],
   "source": [
    "df['Category'].value_counts()"
   ]
  },
  {
   "cell_type": "code",
   "execution_count": null,
   "id": "1dd1e63e-1cff-4a21-bb33-8b744c489a87",
   "metadata": {},
   "outputs": [],
   "source": [
    "#15% spam emails, 85% ham emails: This indicates class imbalance\n",
    "#So we undersample to make the classes even\n",
    "df_spam = df[df['Category']=='spam']\n",
    "df_spam.shape"
   ]
  },
  {
   "cell_type": "code",
   "execution_count": null,
   "id": "b8c0f4fc-d4f2-4936-8307-11a3b69e3877",
   "metadata": {},
   "outputs": [],
   "source": [
    "df_ham = df[df['Category']=='ham']\n",
    "df_ham.shape"
   ]
  },
  {
   "cell_type": "code",
   "execution_count": null,
   "id": "ffa69885-cd7a-430b-9932-a8ef5cf7e548",
   "metadata": {},
   "outputs": [],
   "source": [
    "df_ham_downsampled = df_ham.sample(df_spam.shape[0])\n",
    "df_ham_downsampled.shape"
   ]
  },
  {
   "cell_type": "code",
   "execution_count": null,
   "id": "9b4d118a-8125-47fd-b55a-e3297823db06",
   "metadata": {},
   "outputs": [],
   "source": [
    "df_balanced = pd.concat([df_ham_downsampled, df_spam])\n",
    "df_balanced.shape"
   ]
  },
  {
   "cell_type": "code",
   "execution_count": null,
   "id": "4ad3e43a-8fb5-4cef-90b1-f209095a75ae",
   "metadata": {},
   "outputs": [],
   "source": [
    "df_balanced['Category'].value_counts()"
   ]
  },
  {
   "cell_type": "code",
   "execution_count": null,
   "id": "185be141-be8f-4a40-a9e0-05f0171aca48",
   "metadata": {},
   "outputs": [],
   "source": [
    "#If spam we set 1 else 0\n",
    "df_balanced['spam']=df_balanced['Category'].apply(lambda x: 1 if x=='spam' else 0)\n",
    "df_balanced.sample(5)"
   ]
  },
  {
   "cell_type": "code",
   "execution_count": null,
   "id": "6c5d55e8-c476-4291-ac31-9c07756acab2",
   "metadata": {},
   "outputs": [],
   "source": [
    "#Split it into training and test data set\n",
    "\n",
    "\"\"\"\n",
    "df_balanced['Message'],  # Features (input data) - likely text messages\n",
    "    df_balanced['spam'],     # Target labels (output) - whether a message is spam (1) or not (0)\n",
    "    stratify=df_balanced['spam']  # Ensures balanced class distribution in train & test sets\n",
    "\"\"\"\n",
    "from sklearn.model_selection import train_test_split\n",
    "\n",
    "X_train, X_test, y_train, y_test = train_test_split(df_balanced['Message'],df_balanced['spam'], stratify=df_balanced['spam'])"
   ]
  },
  {
   "cell_type": "code",
   "execution_count": null,
   "id": "dfead0c9-99f7-4aa1-9668-ccf47830e172",
   "metadata": {},
   "outputs": [],
   "source": [
    "X_train.head(4)"
   ]
  },
  {
   "cell_type": "code",
   "execution_count": null,
   "id": "c1e6094f-5bf7-4a16-a812-7f48d04a0ef9",
   "metadata": {},
   "outputs": [],
   "source": [
    "#Now lets import BERT model and get embeding vectors for few sample statements\n",
    "\n",
    "bert_preprocess = hub.KerasLayer(\"https://tfhub.dev/tensorflow/bert_en_uncased_preprocess/3\")\n",
    "bert_encoder = hub.KerasLayer(\"https://tfhub.dev/tensorflow/bert_en_uncased_L-12_H-768_A-12/4\")"
   ]
  },
  {
   "cell_type": "code",
   "execution_count": null,
   "id": "7d803f95-4b31-4070-a78b-45bfdb57ed0d",
   "metadata": {},
   "outputs": [],
   "source": [
    "def get_sentence_embeding(sentences):\n",
    "    preprocessed_text = bert_preprocess(sentences)\n",
    "    return bert_encoder(preprocessed_text)['pooled_output']\n",
    "\n",
    "get_sentence_embeding([\n",
    "    \"500$ discount. hurry up\", \n",
    "    \"Bhavin, are you up for a volleybal game tomorrow?\"]\n",
    ")"
   ]
  },
  {
   "cell_type": "code",
   "execution_count": null,
   "id": "cdd97901-dae0-4c72-b786-0f2564bcac5b",
   "metadata": {},
   "outputs": [],
   "source": [
    "#Get embeding vectors for few sample words. Compare them using cosine similarity\n",
    "\"\"\"\n",
    "Values near to 1 means they are similar. 0 means they are very different. \n",
    "Above you can use comparing \"banana\" vs \"grapes\" you get 0.99 similarity as they both are fruits\n",
    "\"\"\"\n",
    "e = get_sentence_embeding([\n",
    "    \"banana\", \n",
    "    \"grapes\",\n",
    "    \"mango\",\n",
    "    \"jeff bezos\",\n",
    "    \"elon musk\",\n",
    "    \"bill gates\"\n",
    "]\n",
    ")"
   ]
  },
  {
   "cell_type": "code",
   "execution_count": null,
   "id": "00d8a494-03ba-4cd7-87dc-f8da5c5dad65",
   "metadata": {},
   "outputs": [],
   "source": [
    "from sklearn.metrics.pairwise import cosine_similarity\n",
    "cosine_similarity([e[0]],[e[1]])"
   ]
  },
  {
   "cell_type": "code",
   "execution_count": null,
   "id": "65a46fe3-2d51-400c-a77d-644f06c95971",
   "metadata": {},
   "outputs": [],
   "source": [
    "cosine_similarity([e[0]],[e[3]])"
   ]
  },
  {
   "cell_type": "code",
   "execution_count": null,
   "id": "62f73318-6c56-4253-b842-9b21b450c024",
   "metadata": {},
   "outputs": [],
   "source": [
    "cosine_similarity([e[3]],[e[4]])"
   ]
  },
  {
   "cell_type": "code",
   "execution_count": null,
   "id": "3d87ccb5-f871-4620-8ce0-aa3f945dbb00",
   "metadata": {},
   "outputs": [],
   "source": [
    "\"\"\"\n",
    "Build Model\n",
    "There are two types of models you can build in tensorflow.\n",
    "\n",
    "(1) Sequential (2) Functional\n",
    "\n",
    "So far we are building sequential models where neurons of different layers are interconnected\n",
    "\n",
    "In functional way every layer is a function and its output is passed as input to the next layer\n",
    "\n",
    "IN the below model input shape is variable thats what shape=() means\n",
    "\"\"\""
   ]
  },
  {
   "cell_type": "code",
   "execution_count": null,
   "id": "a2fa5060-53e7-4883-b33a-f800eb29c098",
   "metadata": {},
   "outputs": [],
   "source": [
    "# Bert layers\n",
    "text_input = tf.keras.layers.Input(shape=(), dtype=tf.string, name='text')\n",
    "preprocessed_text = bert_preprocess(text_input)\n",
    "outputs = bert_encoder(preprocessed_text)\n",
    "\n",
    "# Neural network layers\n",
    "\"\"\"\n",
    "(outputs['pooled_output'])\n",
    "\n",
    "means set pooled_output from all outputs as the input for this layer\n",
    "\"\"\"\n",
    "l = tf.keras.layers.Dropout(0.1, name=\"dropout\")(outputs['pooled_output'])\n",
    "l = tf.keras.layers.Dense(1, activation='sigmoid', name=\"output\")(l)\n",
    "\n",
    "# Use inputs and outputs to construct a final model\n",
    "model = tf.keras.Model(inputs=[text_input], outputs = [l])"
   ]
  },
  {
   "cell_type": "code",
   "execution_count": null,
   "id": "3a3a9f87-64fa-4ddd-bf67-3e974e536ef9",
   "metadata": {},
   "outputs": [],
   "source": [
    "model.summary()"
   ]
  },
  {
   "cell_type": "code",
   "execution_count": null,
   "id": "cb2eea6f-15a2-4990-bb41-1d605da39b4e",
   "metadata": {},
   "outputs": [],
   "source": [
    "len(X_train)"
   ]
  },
  {
   "cell_type": "code",
   "execution_count": null,
   "id": "dfbbecae-b953-483f-acf4-20b75693011f",
   "metadata": {},
   "outputs": [],
   "source": [
    "METRICS = [\n",
    "      tf.keras.metrics.BinaryAccuracy(name='accuracy'),\n",
    "      tf.keras.metrics.Precision(name='precision'),\n",
    "      tf.keras.metrics.Recall(name='recall')\n",
    "]\n",
    "\n",
    "model.compile(optimizer='adam',\n",
    "              loss='binary_crossentropy',\n",
    "              metrics=METRICS)"
   ]
  },
  {
   "cell_type": "code",
   "execution_count": null,
   "id": "af973e05-2c4c-468e-90fe-2bc9b0f286c1",
   "metadata": {},
   "outputs": [],
   "source": [
    "# Train the model\n",
    "model.fit(X_train, y_train, epochs=10)"
   ]
  },
  {
   "cell_type": "code",
   "execution_count": null,
   "id": "b66c65cf-1c18-46ae-b56b-e422eca6ced7",
   "metadata": {},
   "outputs": [],
   "source": [
    "model.evaluate(X_test, y_test)"
   ]
  },
  {
   "cell_type": "code",
   "execution_count": null,
   "id": "7429c5d5-accb-40f5-a150-07beb20400e1",
   "metadata": {},
   "outputs": [],
   "source": [
    "y_predicted = model.predict(X_test)\n",
    "\n",
    "#y predicted is 2d so we flatten to 1d\n",
    "y_predicted = y_predicted.flatten()"
   ]
  },
  {
   "cell_type": "code",
   "execution_count": null,
   "id": "24f221d5-5170-4aee-b15e-6905980d0b07",
   "metadata": {},
   "outputs": [],
   "source": [
    "\"\"\"\n",
    "If value more than 0.5 1 if less than 0.5 set to 0\n",
    "\"\"\"\n",
    "import numpy as np\n",
    "\n",
    "y_predicted = np.where(y_predicted > 0.5, 1, 0)\n",
    "y_predicted"
   ]
  },
  {
   "cell_type": "code",
   "execution_count": null,
   "id": "a89a73bf-0d78-40b0-a6da-66b415ef1f97",
   "metadata": {},
   "outputs": [],
   "source": [
    "from sklearn.metrics import confusion_matrix, classification_report\n",
    "\n",
    "cm = confusion_matrix(y_test, y_predicted)\n",
    "cm "
   ]
  },
  {
   "cell_type": "code",
   "execution_count": null,
   "id": "6969ec8c-8d9e-43b7-8c0a-0aedd2e493e7",
   "metadata": {},
   "outputs": [],
   "source": [
    "from matplotlib import pyplot as plt\n",
    "import seaborn as sn\n",
    "sn.heatmap(cm, annot=True, fmt='d')\n",
    "plt.xlabel('Predicted')\n",
    "plt.ylabel('Truth')"
   ]
  },
  {
   "cell_type": "code",
   "execution_count": null,
   "id": "9e19c70e-f79e-4837-8223-88273dac48ea",
   "metadata": {},
   "outputs": [],
   "source": [
    "print(classification_report(y_test, y_predicted))"
   ]
  },
  {
   "cell_type": "code",
   "execution_count": null,
   "id": "9169d0ad-8597-4628-870a-8f8a0a838aac",
   "metadata": {},
   "outputs": [],
   "source": [
    "reviews = [\n",
    "    'Enter a chance to win $5000, hurry up, offer valid until march 31, 2021',\n",
    "    \n",
    "    'You are awarded a SiPix Digital Camera! call 09061221061 from landline. Delivery within 28days. \n",
    "    T Cs Box177. M221BP. 2yr warranty. 150ppm. 16 . p pÂ£3.99',\n",
    "    \n",
    "    'it to 80488. Your 500 free text messages are valid until 31 December 2005.',\n",
    "    \n",
    "    'Hey Sam, Are you coming for a cricket game tomorrow',\n",
    "    \n",
    "    \"Why don't you wait 'til at least wednesday to see if you get your .\"\n",
    "]\n",
    "model.predict(reviews)"
   ]
  }
 ],
 "metadata": {
  "kernelspec": {
   "display_name": "Python 3 (ipykernel)",
   "language": "python",
   "name": "python3"
  },
  "language_info": {
   "codemirror_mode": {
    "name": "ipython",
    "version": 3
   },
   "file_extension": ".py",
   "mimetype": "text/x-python",
   "name": "python",
   "nbconvert_exporter": "python",
   "pygments_lexer": "ipython3",
   "version": "3.12.7"
  }
 },
 "nbformat": 4,
 "nbformat_minor": 5
}
