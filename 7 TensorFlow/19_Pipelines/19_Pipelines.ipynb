{
 "cells": [
  {
   "cell_type": "code",
   "execution_count": 1,
   "id": "c23e70d1-8495-4c48-9b4d-21ce3b416029",
   "metadata": {},
   "outputs": [],
   "source": [
    "import tensorflow as tf"
   ]
  },
  {
   "cell_type": "code",
   "execution_count": 2,
   "id": "023e8926-aac5-40ec-ae6c-6d388d791481",
   "metadata": {},
   "outputs": [
    {
     "data": {
      "text/plain": [
       "<_TensorSliceDataset element_spec=TensorSpec(shape=(), dtype=tf.int32, name=None)>"
      ]
     },
     "execution_count": 2,
     "metadata": {},
     "output_type": "execute_result"
    }
   ],
   "source": [
    "#Create tf dataset from a list\n",
    "daily_sales_numbers = [21, 22, -108, 31, -1, 32, 34,31]\n",
    "\n",
    "tf_dataset = tf.data.Dataset.from_tensor_slices(daily_sales_numbers)\n",
    "tf_dataset"
   ]
  },
  {
   "cell_type": "code",
   "execution_count": 3,
   "id": "19029832-7be9-43bf-82d3-4b010d83b7a1",
   "metadata": {},
   "outputs": [
    {
     "name": "stdout",
     "output_type": "stream",
     "text": [
      "21\n",
      "22\n",
      "-108\n",
      "31\n",
      "-1\n",
      "32\n",
      "34\n",
      "31\n"
     ]
    }
   ],
   "source": [
    "#Iterate through tf dataset\n",
    "\n",
    "for sales in tf_dataset:\n",
    "    print(sales.numpy())"
   ]
  },
  {
   "cell_type": "code",
   "execution_count": 4,
   "id": "4dab0850-335e-4cf1-9b6c-4c1bfbec6133",
   "metadata": {},
   "outputs": [
    {
     "name": "stdout",
     "output_type": "stream",
     "text": [
      "21\n",
      "22\n",
      "-108\n",
      "31\n",
      "-1\n",
      "32\n",
      "34\n",
      "31\n"
     ]
    }
   ],
   "source": [
    "#Iterate through elements as numpy elements\n",
    "for sales in tf_dataset.as_numpy_iterator():\n",
    "    print(sales)"
   ]
  },
  {
   "cell_type": "code",
   "execution_count": 5,
   "id": "2941133a-0f32-4c46-9648-4a6960f55767",
   "metadata": {},
   "outputs": [
    {
     "name": "stdout",
     "output_type": "stream",
     "text": [
      "21\n",
      "22\n",
      "-108\n"
     ]
    }
   ],
   "source": [
    "#Iterate through first n elements in tf dataset\n",
    "for sales in tf_dataset.take(3):\n",
    "    print(sales.numpy())"
   ]
  },
  {
   "cell_type": "code",
   "execution_count": 6,
   "id": "99281e90-ed6e-4128-81c7-7f33520a39cc",
   "metadata": {},
   "outputs": [
    {
     "name": "stdout",
     "output_type": "stream",
     "text": [
      "21\n",
      "22\n",
      "31\n",
      "32\n",
      "34\n",
      "31\n"
     ]
    }
   ],
   "source": [
    "#Filter sales numbers that are < 0\n",
    "\n",
    "tf_dataset = tf_dataset.filter(lambda x: x>0)\n",
    "for sales in tf_dataset.as_numpy_iterator():\n",
    "    print(sales)\n",
    "\n"
   ]
  },
  {
   "cell_type": "code",
   "execution_count": 7,
   "id": "4595b092-ee75-4641-94b2-ecf88bd2815a",
   "metadata": {},
   "outputs": [
    {
     "name": "stdout",
     "output_type": "stream",
     "text": [
      "1512\n",
      "1584\n",
      "2232\n",
      "2304\n",
      "2448\n",
      "2232\n"
     ]
    }
   ],
   "source": [
    "#Convert sales numbers from USA dollars ($) to Indian Rupees (INR) Assuming 1->72 conversation rate\n",
    "\n",
    "tf_dataset = tf_dataset.map(lambda x: x*72)\n",
    "for sales in tf_dataset.as_numpy_iterator():\n",
    "    print(sales)"
   ]
  },
  {
   "cell_type": "code",
   "execution_count": 8,
   "id": "62f75b2d-e1aa-4d63-a0b2-37f570068628",
   "metadata": {},
   "outputs": [
    {
     "name": "stdout",
     "output_type": "stream",
     "text": [
      "1512\n",
      "2232\n",
      "1584\n",
      "2304\n",
      "2232\n",
      "2448\n"
     ]
    }
   ],
   "source": [
    "#Shuffe\n",
    "tf_dataset = tf_dataset.shuffle(2)\n",
    "for sales in tf_dataset.as_numpy_iterator():\n",
    "    print(sales)"
   ]
  },
  {
   "cell_type": "code",
   "execution_count": 9,
   "id": "da5fbdd0-4742-4695-9d27-a0b7ae2e776c",
   "metadata": {},
   "outputs": [
    {
     "name": "stdout",
     "output_type": "stream",
     "text": [
      "[1584 1512]\n",
      "[2304 2232]\n",
      "[2448 2232]\n"
     ]
    }
   ],
   "source": [
    "#Batching\n",
    "for sales_batch in tf_dataset.batch(2):\n",
    "    print(sales_batch.numpy())"
   ]
  },
  {
   "cell_type": "code",
   "execution_count": 10,
   "id": "42d667ca-5439-4961-b068-5f89e8d9c287",
   "metadata": {},
   "outputs": [
    {
     "name": "stdout",
     "output_type": "stream",
     "text": [
      "[1512 2232]\n",
      "[1584 2448]\n",
      "[2304 2232]\n"
     ]
    }
   ],
   "source": [
    "#Perform all of the above operations in one shot\n",
    "#Since we are using two lambda function use two variables one in each\n",
    "tf_dataset = tf.data.Dataset.from_tensor_slices(daily_sales_numbers)\n",
    "\n",
    "tf_dataset = tf_dataset.filter(lambda x: x>0).map(lambda y: y*72).shuffle(2).batch(2)\n",
    "for sales in tf_dataset.as_numpy_iterator():\n",
    "    print(sales)"
   ]
  },
  {
   "cell_type": "code",
   "execution_count": null,
   "id": "6a702d90-88c5-4cef-99da-312eac2f2d97",
   "metadata": {},
   "outputs": [],
   "source": [
    "#Images"
   ]
  },
  {
   "cell_type": "code",
   "execution_count": null,
   "id": "bf609e1d-afd2-483c-890f-a0ba375c45a9",
   "metadata": {},
   "outputs": [],
   "source": [
    "\"\"\"\n",
    "creates a TensorFlow dataset containing file paths of images stored in a directory structure.\n",
    " \n",
    "The images/ directory contains subdirectories (categories or labels).\n",
    "*/* means:\n",
    "First *: Matches any folder inside images/ (e.g., class names like cats/, dogs/).\n",
    "Second *: Matches any file inside those folders (e.g., cat1.jpg, dog2.png).\n",
    "\"\"\"\n",
    "images_ds = tf.data.Dataset.list_files('images/*/*', shuffle=False)"
   ]
  },
  {
   "cell_type": "code",
   "execution_count": null,
   "id": "24686e04-3fec-44c7-9fea-c53df9366659",
   "metadata": {},
   "outputs": [],
   "source": [
    "image_count = len(images_ds)\n",
    "image_count"
   ]
  },
  {
   "cell_type": "code",
   "execution_count": null,
   "id": "5372cb62-7b82-49d1-8b5a-b153484149d2",
   "metadata": {},
   "outputs": [],
   "source": [
    "type(images_ds)"
   ]
  },
  {
   "cell_type": "code",
   "execution_count": null,
   "id": "bff03b6b-0c1c-4e33-944e-4f72563118f0",
   "metadata": {},
   "outputs": [],
   "source": [
    "\"\"\"\n",
    "Takes only three images and\n",
    "Prints file paths of images in the 'images/' directory.\n",
    "\"\"\"\n",
    "for file in images_ds.take(3):\n",
    "    print(file.numpy())"
   ]
  },
  {
   "cell_type": "code",
   "execution_count": null,
   "id": "0e4465ae-7587-4637-bcb3-3d7e43a63764",
   "metadata": {},
   "outputs": [],
   "source": [
    "images_ds = images_ds.shuffle(200)\n",
    "for file in images_ds.take(3):\n",
    "    print(file.numpy())"
   ]
  },
  {
   "cell_type": "code",
   "execution_count": null,
   "id": "9268f406-858e-4575-b32e-3ce8a312f64a",
   "metadata": {},
   "outputs": [],
   "source": [
    "class_names = [\"cat\",\"dog\"]"
   ]
  },
  {
   "cell_type": "code",
   "execution_count": null,
   "id": "6166be3b-9bfc-40fe-83db-eacfd660140c",
   "metadata": {},
   "outputs": [],
   "source": [
    "\"\"\"\n",
    "Since we shuffled cats and dogs are randomly jumbled\n",
    "we take 80 percent as train set\n",
    "we skip 80 percent and take 20 percent as test set\n",
    "\"\"\"\n",
    "train_size = int(image_count*0.8)\n",
    "train_ds = images_ds.take(train_size)\n",
    "test_ds = images_ds.skip(train_size)"
   ]
  },
  {
   "cell_type": "code",
   "execution_count": null,
   "id": "3c79ebea-42b1-4482-8ff9-07089ff8f7b9",
   "metadata": {},
   "outputs": [],
   "source": [
    "len(train_ds)"
   ]
  },
  {
   "cell_type": "code",
   "execution_count": null,
   "id": "e31dfb8c-3afd-4c62-b146-82399206575c",
   "metadata": {},
   "outputs": [],
   "source": [
    "len(test_ds)"
   ]
  },
  {
   "cell_type": "code",
   "execution_count": null,
   "id": "ac8906dc-a16f-4af8-b6ca-e75ea499540e",
   "metadata": {},
   "outputs": [],
   "source": [
    "\"\"\"\n",
    "In the file path seperated by/the second from last has the subfolder name of cats or dogs which can be used to train\n",
    "\"\"\"\n",
    "def get_label(file_path):\n",
    "    import os\n",
    "    parts = tf.strings.split(file_path, os.path.sep)\n",
    "    return parts[-2]"
   ]
  },
  {
   "cell_type": "code",
   "execution_count": null,
   "id": "78496658-29df-4cf3-bb9e-99190f895231",
   "metadata": {},
   "outputs": [],
   "source": [
    "get_label(\"images\\\\dog\\\\20 Reasons Why Cats Make the Best Pets....jpg\")"
   ]
  },
  {
   "cell_type": "code",
   "execution_count": null,
   "id": "902c99b2-3bca-4e7e-93fc-76202f2059ce",
   "metadata": {},
   "outputs": [],
   "source": [
    "def process_image(file_path):\n",
    "    label = get_label(file_path)\n",
    "    img = tf.io.read_file(file_path) # load the raw data from the file as a string\n",
    "    \n",
    "    #The output is a tensor with shape (height, width, channels), where channels=3 (RGB).\n",
    "    img = tf.image.decode_jpeg(img) # Decode the raw bytes into a tensor\n",
    "    \n",
    "    img = tf.image.resize(img, [128, 128])\n",
    "    return img, label"
   ]
  },
  {
   "cell_type": "code",
   "execution_count": null,
   "id": "e17de31a-9075-4f29-b400-52074ae0b098",
   "metadata": {},
   "outputs": [],
   "source": [
    "img, label = process_image(\"images\\\\cat\\\\20 Reasons Why Cats Make the Best Pets....jpg\")\n",
    "img.numpy()[:2]  # Extracts the first two rows of the image tensor using .numpy()[:2]"
   ]
  },
  {
   "cell_type": "code",
   "execution_count": null,
   "id": "089bf346-e084-4a92-8c13-b0689a868cf4",
   "metadata": {},
   "outputs": [],
   "source": [
    "\"\"\"\n",
    "This applies the process_image function to each element in the train_ds and test_ds datasets, \n",
    "transforming file paths into processed images and labels.\n",
    "\n",
    "train_ds = train_ds.map(process_image)\n",
    "test_ds = test_ds.map(process_image)"
   ]
  },
  {
   "cell_type": "code",
   "execution_count": null,
   "id": "8ee6af54-8b4d-4d6b-b405-bc28c57b9311",
   "metadata": {},
   "outputs": [],
   "source": [
    "#Take one image in the set and print its label and image\n",
    "for image, label in train_ds.take(1):\n",
    "    print(\"****\",image)\n",
    "    print(\"****\",label)"
   ]
  },
  {
   "cell_type": "code",
   "execution_count": null,
   "id": "0d4c364e-589f-491d-9660-a262b14b816c",
   "metadata": {},
   "outputs": [],
   "source": [
    "#Scale the image\n",
    "def scale(image, label):\n",
    "    return image/255, label"
   ]
  },
  {
   "cell_type": "code",
   "execution_count": null,
   "id": "02b9e18e-b7ed-4e8c-888f-475a714c4c8e",
   "metadata": {},
   "outputs": [],
   "source": [
    "#.map(scale) applies scale(image, label) to every (image, label) pair in train_ds.\n",
    "train_ds = train_ds.map(scale)  "
   ]
  },
  {
   "cell_type": "code",
   "execution_count": null,
   "id": "a6548613-4c02-4473-a551-5b4bd3a278a8",
   "metadata": {},
   "outputs": [],
   "source": [
    "\"\"\"\n",
    "Take 5 elements from dataset and print the first top left pixel and its label\n",
    "\"\"\"\n",
    "for image, label in train_ds.take(5):\n",
    "    print(\"****Image: \",image.numpy()[0][0])\n",
    "    print(\"****Label: \",label.numpy())"
   ]
  }
 ],
 "metadata": {
  "kernelspec": {
   "display_name": "Python 3 (ipykernel)",
   "language": "python",
   "name": "python3"
  },
  "language_info": {
   "codemirror_mode": {
    "name": "ipython",
    "version": 3
   },
   "file_extension": ".py",
   "mimetype": "text/x-python",
   "name": "python",
   "nbconvert_exporter": "python",
   "pygments_lexer": "ipython3",
   "version": "3.12.7"
  }
 },
 "nbformat": 4,
 "nbformat_minor": 5
}
