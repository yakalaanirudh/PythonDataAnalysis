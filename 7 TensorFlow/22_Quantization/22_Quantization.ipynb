{
 "cells": [
  {
   "cell_type": "code",
   "execution_count": null,
   "id": "15f6d72e-5bff-4b55-b937-c79c0d271c67",
   "metadata": {},
   "outputs": [],
   "source": [
    "import tensorflow as tf\n",
    "from tensorflow import keras\n",
    "import matplotlib.pyplot as plt\n",
    "%matplotlib inline\n",
    "import numpy as np"
   ]
  },
  {
   "cell_type": "code",
   "execution_count": null,
   "id": "9d6737b8-a516-4f3c-93e9-8565ad67d0c0",
   "metadata": {},
   "outputs": [],
   "source": [
    "(X_train, y_train) , (X_test, y_test) = keras.datasets.mnist.load_data()"
   ]
  },
  {
   "cell_type": "code",
   "execution_count": null,
   "id": "da2029e1-ab08-4e82-a5ee-a86ff3780415",
   "metadata": {},
   "outputs": [],
   "source": [
    "len(X_train)"
   ]
  },
  {
   "cell_type": "code",
   "execution_count": null,
   "id": "f0f8c28a-ccbb-4972-a29e-efa83b15845d",
   "metadata": {},
   "outputs": [],
   "source": [
    "len(X_test)"
   ]
  },
  {
   "cell_type": "code",
   "execution_count": null,
   "id": "8e2b072c-f324-4a4a-8050-3d9974e665fc",
   "metadata": {},
   "outputs": [],
   "source": [
    "X_train[0].shape"
   ]
  },
  {
   "cell_type": "code",
   "execution_count": null,
   "id": "1922b7e1-2726-44be-b42d-e65949704f00",
   "metadata": {},
   "outputs": [],
   "source": [
    "plt.matshow(X_train[0])"
   ]
  },
  {
   "cell_type": "code",
   "execution_count": null,
   "id": "48182e14-4d7a-4dbb-88d7-a28fdc725814",
   "metadata": {},
   "outputs": [],
   "source": [
    "y_train[0]"
   ]
  },
  {
   "cell_type": "code",
   "execution_count": null,
   "id": "531e3c79-8971-4a0c-bbdf-00cab60b442f",
   "metadata": {},
   "outputs": [],
   "source": [
    "X_train = X_train / 255\n",
    "X_test = X_test / 255"
   ]
  },
  {
   "cell_type": "code",
   "execution_count": null,
   "id": "d0b8a86d-0040-49c3-93d2-9996c471cead",
   "metadata": {},
   "outputs": [],
   "source": [
    "X_train_flattened = X_train.reshape(len(X_train), 28*28)\n",
    "X_test_flattened = X_test.reshape(len(X_test), 28*28)"
   ]
  },
  {
   "cell_type": "code",
   "execution_count": null,
   "id": "13b3077a-e79c-4095-9551-9376be1c4e2b",
   "metadata": {},
   "outputs": [],
   "source": [
    "X_train_flattened.shape"
   ]
  },
  {
   "cell_type": "code",
   "execution_count": null,
   "id": "fa19765e-5ef9-47fa-9889-f345d19d3c40",
   "metadata": {},
   "outputs": [],
   "source": [
    "#Using Flatten layer so that we don't have to call .reshape on input dataset\n",
    "model = keras.Sequential([\n",
    "    keras.layers.Flatten(input_shape=(28, 28)),\n",
    "    keras.layers.Dense(100, activation='relu'),\n",
    "    keras.layers.Dense(10, activation='sigmoid')\n",
    "])\n",
    "\n",
    "model.compile(optimizer='adam',\n",
    "              loss='sparse_categorical_crossentropy',\n",
    "              metrics=['accuracy'])\n",
    "\n",
    "model.fit(X_train, y_train, epochs=5)"
   ]
  },
  {
   "cell_type": "code",
   "execution_count": null,
   "id": "736d088d-dc3d-4a8c-9042-273be43d52c3",
   "metadata": {},
   "outputs": [],
   "source": [
    "model.evaluate(X_test,y_test)"
   ]
  },
  {
   "cell_type": "code",
   "execution_count": null,
   "id": "8c609c53-2198-4dbb-a7b3-7a7297488f63",
   "metadata": {},
   "outputs": [],
   "source": [
    "model.save(\"./saved_model/\")"
   ]
  },
  {
   "cell_type": "code",
   "execution_count": null,
   "id": "429cc61c-9517-47d6-bb6a-9eab7cbac2c3",
   "metadata": {},
   "outputs": [],
   "source": [
    "#(1) Post training quantization\n",
    "#Without quantization\n",
    "\"\"\"\n",
    "Here we just convert the model to a less data model \n",
    "\"\"\"\n",
    "\n",
    "converter = tf.lite.TFLiteConverter.from_saved_model(\"./saved_model\")\n",
    "tflite_model = converter.convert()"
   ]
  },
  {
   "cell_type": "code",
   "execution_count": null,
   "id": "b0c68523-69a1-4374-a061-35784565b72e",
   "metadata": {},
   "outputs": [],
   "source": [
    "#With quantization\n",
    "\n",
    "converter = tf.lite.TFLiteConverter.from_saved_model(\"./saved_model\")\n",
    "converter.optimizations = [tf.lite.Optimize.DEFAULT]\n",
    "tflite_quant_model = converter.convert()"
   ]
  },
  {
   "cell_type": "code",
   "execution_count": null,
   "id": "fe5a209a-8bf1-40a7-a6e6-ce2601900fa3",
   "metadata": {},
   "outputs": [],
   "source": [
    "len(tflite_model)"
   ]
  },
  {
   "cell_type": "code",
   "execution_count": null,
   "id": "45aba912-5925-4a48-a652-7a4622169c23",
   "metadata": {},
   "outputs": [],
   "source": [
    "len(tflite_quant_model)"
   ]
  },
  {
   "cell_type": "code",
   "execution_count": null,
   "id": "b60661fb-1883-4d10-b97c-0517593e1e60",
   "metadata": {},
   "outputs": [],
   "source": [
    "#You can see above that quantizated model is 1/4th the size of a non quantized model\n",
    "\n",
    "with open(\"tflite_model.tflite\", \"wb\") as f:\n",
    "    f.write(tflite_model)\n",
    "with open(\"tflite_quant_model.tflite\", \"wb\") as f:\n",
    "    f.write(tflite_quant_model)\n",
    "    \n",
    "#Once you have above files saved to a disk, check their sizes"
   ]
  },
  {
   "cell_type": "code",
   "execution_count": null,
   "id": "96202ba9-d5ec-41a3-8171-c21ff6a04f67",
   "metadata": {},
   "outputs": [],
   "source": [
    "#(2) Quantization aware training\n",
    "import tensorflow_model_optimization as tfmot\n",
    "\n",
    "quantize_model = tfmot.quantization.keras.quantize_model\n",
    "\n",
    "# q_aware stands for for quantization aware.\n",
    "q_aware_model = quantize_model(model)\n",
    "\n",
    "# `quantize_model` requires a recompile.\n",
    "q_aware_model.compile(optimizer='adam',\n",
    "              loss='sparse_categorical_crossentropy',\n",
    "              metrics=['accuracy'])\n",
    "\n",
    "q_aware_model.summary()"
   ]
  },
  {
   "cell_type": "code",
   "execution_count": null,
   "id": "69d0848f-36a7-4ba8-bc67-4bfa18c0adcf",
   "metadata": {},
   "outputs": [],
   "source": [
    "q_aware_model.fit(X_train, y_train, epochs=1)"
   ]
  },
  {
   "cell_type": "code",
   "execution_count": null,
   "id": "32cfae70-0a75-4fdc-b3f0-c6e076646bd1",
   "metadata": {},
   "outputs": [],
   "source": [
    "q_aware_model.evaluate(X_test, y_test)"
   ]
  },
  {
   "cell_type": "code",
   "execution_count": null,
   "id": "fd643b22-87dc-43a4-8df6-0beeaa9a979b",
   "metadata": {},
   "outputs": [],
   "source": [
    "converter = tf.lite.TFLiteConverter.from_keras_model(q_aware_model)\n",
    "converter.optimizations = [tf.lite.Optimize.DEFAULT]\n",
    "\n",
    "tflite_qaware_model = converter.convert()"
   ]
  },
  {
   "cell_type": "code",
   "execution_count": null,
   "id": "c7e9db16-590e-4f81-a95e-fb14bcd6b3ef",
   "metadata": {},
   "outputs": [],
   "source": [
    "len(tflite_qaware_model)"
   ]
  },
  {
   "cell_type": "code",
   "execution_count": null,
   "id": "519184b7-b45d-47c3-be9f-f4236275b4c1",
   "metadata": {},
   "outputs": [],
   "source": [
    "with open(\"tflite_qaware_model.tflite\", 'wb') as f:\n",
    "    f.write(tflite_qaware_model)"
   ]
  }
 ],
 "metadata": {
  "kernelspec": {
   "display_name": "Python 3 (ipykernel)",
   "language": "python",
   "name": "python3"
  },
  "language_info": {
   "codemirror_mode": {
    "name": "ipython",
    "version": 3
   },
   "file_extension": ".py",
   "mimetype": "text/x-python",
   "name": "python",
   "nbconvert_exporter": "python",
   "pygments_lexer": "ipython3",
   "version": "3.12.7"
  }
 },
 "nbformat": 4,
 "nbformat_minor": 5
}
