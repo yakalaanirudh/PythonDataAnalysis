{
 "cells": [
  {
   "cell_type": "code",
   "execution_count": null,
   "id": "5fd57fa6-24df-4208-b881-bb83bd06ab10",
   "metadata": {},
   "outputs": [],
   "source": [
    "# !pip install gensim\n",
    "# !pip install python-Levenshtein"
   ]
  },
  {
   "cell_type": "code",
   "execution_count": null,
   "id": "ba6284c7-9086-4533-916b-b74e5b83ac3c",
   "metadata": {},
   "outputs": [],
   "source": [
    "import gensim\n",
    "import pandas as pd"
   ]
  },
  {
   "cell_type": "code",
   "execution_count": null,
   "id": "23337cbf-6a15-4024-a3de-f69a8d6e155b",
   "metadata": {},
   "outputs": [],
   "source": [
    "\"\"\"\n",
    "Link to the Dataset: \n",
    "http://snap.stanford.edu/data/amazon/productGraph/categoryFiles/reviews_Cell_Phones_and_Accessories_5.json.gz\n",
    "\"\"\""
   ]
  },
  {
   "cell_type": "code",
   "execution_count": null,
   "id": "fb2ad909-c1fc-4d63-92a9-7e7464a13673",
   "metadata": {},
   "outputs": [],
   "source": [
    "df = pd.read_json(\"Cell_Phones_and_Accessories_5.json\", lines=True)\n",
    "df"
   ]
  },
  {
   "cell_type": "code",
   "execution_count": null,
   "id": "3f12577f-7139-47cc-bbc8-61f55c93650f",
   "metadata": {},
   "outputs": [],
   "source": [
    "df.shape\n",
    "\n",
    "#(194439, 9)"
   ]
  },
  {
   "cell_type": "code",
   "execution_count": null,
   "id": "6a3fe004-d82d-4b3a-bb0c-fe9ab1bd00bf",
   "metadata": {},
   "outputs": [],
   "source": [
    "\"\"\"\n",
    "Simple Preprocessing & Tokenization\n",
    "The first thing to do for any data science task is to clean the data. \n",
    "For NLP, we apply various processing like converting all the words to lower case, trimming spaces, removing punctuations. \n",
    "This is something we will do over here too.\n",
    "\n",
    "Additionally, we can also remove stop words like \n",
    "'and', 'or', 'is', 'the', 'a', 'an' and convert words to their root forms like 'running' to 'run'.\n",
    "\n",
    "\"\"\"\n",
    "\n",
    "review_text = df.reviewText.apply(gensim.utils.simple_preprocess)\n",
    "review_text"
   ]
  },
  {
   "cell_type": "code",
   "execution_count": null,
   "id": "0aef77de-1e22-4a66-bf19-8fa6dc261a0b",
   "metadata": {},
   "outputs": [],
   "source": [
    "#This renders the words in the first sentence as a array\n",
    "review_text.loc[0]"
   ]
  },
  {
   "cell_type": "code",
   "execution_count": null,
   "id": "1dfc9a51-23e5-42e6-8f50-350d3620286b",
   "metadata": {},
   "outputs": [],
   "source": [
    "df.reviewText.loc[0]\n",
    "\"\"\"\n",
    "They look good and stick good! I just don't like the rounded shape because \n",
    "I was always bumping it and Siri kept popping up and it was irritating. \n",
    "I just won't buy a product like this again\n",
    "\"\"\""
   ]
  },
  {
   "cell_type": "code",
   "execution_count": null,
   "id": "52b1ce36-a010-4154-8384-52a514dbdfaf",
   "metadata": {},
   "outputs": [],
   "source": [
    "\"\"\"\n",
    "Training the Word2Vec Model\n",
    "Train the model for reviews. \n",
    "Use a window of size 10 i.e. 10 words before the present word and 10 words ahead.\n",
    "A sentence with at least 2 words should only be considered, configure this using min_count parameter.\n",
    "\n",
    "Workers define how many CPU threads to be used.\n",
    "\"\"\"\n",
    "\n",
    "#Initialize the model\n",
    "\n",
    "model = gensim.models.Word2Vec(\n",
    "    window=10,\n",
    "    min_count=2,\n",
    "    workers=4,\n",
    ")"
   ]
  },
  {
   "cell_type": "code",
   "execution_count": null,
   "id": "290006de-9659-4519-ba3b-8ca2250a38dc",
   "metadata": {},
   "outputs": [],
   "source": [
    "#Build Vocabulary\n",
    "#progress means give output after a 1000 words are processed\n",
    "model.build_vocab(review_text, progress_per=1000)"
   ]
  },
  {
   "cell_type": "code",
   "execution_count": null,
   "id": "cff7383b-9e09-4739-8b65-56d8cc742c00",
   "metadata": {},
   "outputs": [],
   "source": [
    "#Train the Word2Vec Model\n",
    "#total_examples=model.corpus_count numbe rof sentences in the model\n",
    "#epochs=model.epochs number of epochs in model\n",
    "model.train(review_text, total_examples=model.corpus_count, epochs=model.epochs)"
   ]
  },
  {
   "cell_type": "code",
   "execution_count": null,
   "id": "366a5620-0e8d-4163-b03f-8430a06b57f3",
   "metadata": {},
   "outputs": [],
   "source": [
    "#get the most similar words to bad\n",
    "model.wv.most_similar(\"bad\")"
   ]
  }
 ],
 "metadata": {
  "kernelspec": {
   "display_name": "Python 3 (ipykernel)",
   "language": "python",
   "name": "python3"
  },
  "language_info": {
   "codemirror_mode": {
    "name": "ipython",
    "version": 3
   },
   "file_extension": ".py",
   "mimetype": "text/x-python",
   "name": "python",
   "nbconvert_exporter": "python",
   "pygments_lexer": "ipython3",
   "version": "3.12.7"
  }
 },
 "nbformat": 4,
 "nbformat_minor": 5
}
